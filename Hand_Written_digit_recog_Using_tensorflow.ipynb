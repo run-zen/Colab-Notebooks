{
  "nbformat": 4,
  "nbformat_minor": 0,
  "metadata": {
    "colab": {
      "name": "Hand_Written_digit_recog_Using_tensorflow.ipynb",
      "provenance": [],
      "collapsed_sections": [],
      "authorship_tag": "ABX9TyMiH2tul7mLvO6D/7i7IBl1",
      "include_colab_link": true
    },
    "kernelspec": {
      "name": "python3",
      "display_name": "Python 3"
    }
  },
  "cells": [
    {
      "cell_type": "markdown",
      "metadata": {
        "id": "view-in-github",
        "colab_type": "text"
      },
      "source": [
        "<a href=\"https://colab.research.google.com/github/run-zen/Colab-Notebooks/blob/master/Hand_Written_digit_recog_Using_tensorflow.ipynb\" target=\"_parent\"><img src=\"https://colab.research.google.com/assets/colab-badge.svg\" alt=\"Open In Colab\"/></a>"
      ]
    },
    {
      "cell_type": "markdown",
      "metadata": {
        "id": "jhGY2MPpjuas",
        "colab_type": "text"
      },
      "source": [
        "# **Image Classification Using Convolutional Neural Networks**"
      ]
    },
    {
      "cell_type": "markdown",
      "metadata": {
        "id": "W2PjyAVul38f",
        "colab_type": "text"
      },
      "source": [
        "In this notebook I will build a convolutional neural network to classify hand written digits.\n",
        "\n",
        "We will use tensorflow to create this CNN and other helper libraries."
      ]
    },
    {
      "cell_type": "markdown",
      "metadata": {
        "id": "LoREgSg7jvG6",
        "colab_type": "text"
      },
      "source": [
        "## Importing Required libaries"
      ]
    },
    {
      "cell_type": "code",
      "metadata": {
        "id": "N7jK9P6tkGAI",
        "colab_type": "code",
        "colab": {
          "base_uri": "https://localhost:8080/",
          "height": 34
        },
        "outputId": "d7e32eaa-5184-4556-b00b-2f74c1cdcd76"
      },
      "source": [
        "import tensorflow as tf\n",
        "print(\"Tensorflow version : {}\".format(tf.__version__))\n",
        "\n",
        "#Helper libraries\n",
        "import math\n",
        "import numpy as np\n",
        "import matplotlib.pyplot as plt"
      ],
      "execution_count": 2,
      "outputs": [
        {
          "output_type": "stream",
          "text": [
            "Tensorflow version : 2.3.0\n"
          ],
          "name": "stdout"
        }
      ]
    },
    {
      "cell_type": "code",
      "metadata": {
        "id": "2R3zCdiHlG-i",
        "colab_type": "code",
        "colab": {}
      },
      "source": [
        "import logging\n",
        "logger = tf.get_logger()\n",
        "logger.setLevel(logging.ERROR)"
      ],
      "execution_count": 3,
      "outputs": []
    },
    {
      "cell_type": "code",
      "metadata": {
        "id": "gPH4-5azthP3",
        "colab_type": "code",
        "colab": {}
      },
      "source": [
        "from scipy.io import loadmat "
      ],
      "execution_count": 4,
      "outputs": []
    },
    {
      "cell_type": "markdown",
      "metadata": {
        "id": "yRxY503hmqWy",
        "colab_type": "text"
      },
      "source": [
        "# Import Dataset"
      ]
    },
    {
      "cell_type": "markdown",
      "metadata": {
        "id": "v0mjRBGrm2hc",
        "colab_type": "text"
      },
      "source": [
        "Importing dataset from github repo."
      ]
    },
    {
      "cell_type": "code",
      "metadata": {
        "id": "cyUGfSaHmvkA",
        "colab_type": "code",
        "colab": {
          "base_uri": "https://localhost:8080/",
          "height": 357
        },
        "outputId": "a7c7e5f8-ebc8-4362-e0a1-d89dd9a891e0"
      },
      "source": [
        "!wget https://github.com/run-zen/Colab-Notebooks/blob/master/digit_dataSet.mat?raw=true"
      ],
      "execution_count": 11,
      "outputs": [
        {
          "output_type": "stream",
          "text": [
            "--2020-08-31 18:29:20--  https://github.com/run-zen/Colab-Notebooks/blob/master/digit_dataSet.mat?raw=true\n",
            "Resolving github.com (github.com)... 140.82.113.4\n",
            "Connecting to github.com (github.com)|140.82.113.4|:443... connected.\n",
            "HTTP request sent, awaiting response... 302 Found\n",
            "Location: https://github.com/run-zen/Colab-Notebooks/raw/master/digit_dataSet.mat [following]\n",
            "--2020-08-31 18:29:20--  https://github.com/run-zen/Colab-Notebooks/raw/master/digit_dataSet.mat\n",
            "Reusing existing connection to github.com:443.\n",
            "HTTP request sent, awaiting response... 302 Found\n",
            "Location: https://raw.githubusercontent.com/run-zen/Colab-Notebooks/master/digit_dataSet.mat [following]\n",
            "--2020-08-31 18:29:20--  https://raw.githubusercontent.com/run-zen/Colab-Notebooks/master/digit_dataSet.mat\n",
            "Resolving raw.githubusercontent.com (raw.githubusercontent.com)... 151.101.0.133, 151.101.64.133, 151.101.128.133, ...\n",
            "Connecting to raw.githubusercontent.com (raw.githubusercontent.com)|151.101.0.133|:443... connected.\n",
            "HTTP request sent, awaiting response... 200 OK\n",
            "Length: 7511764 (7.2M) [application/octet-stream]\n",
            "Saving to: ‘digit_dataSet.mat?raw=true’\n",
            "\n",
            "digit_dataSet.mat?r 100%[===================>]   7.16M  27.4MB/s    in 0.3s    \n",
            "\n",
            "2020-08-31 18:29:21 (27.4 MB/s) - ‘digit_dataSet.mat?raw=true’ saved [7511764/7511764]\n",
            "\n"
          ],
          "name": "stdout"
        }
      ]
    },
    {
      "cell_type": "code",
      "metadata": {
        "id": "En9KJbUXvjAZ",
        "colab_type": "code",
        "colab": {
          "base_uri": "https://localhost:8080/",
          "height": 51
        },
        "outputId": "a7fdfe10-675f-41c2-966a-09b22c015533"
      },
      "source": [
        "!ls"
      ],
      "execution_count": 12,
      "outputs": [
        {
          "output_type": "stream",
          "text": [
            " digit_dataSet.mat    'digit_dataSet.mat?raw=true'\n",
            " digit_dataSet.mat.1   sample_data\n"
          ],
          "name": "stdout"
        }
      ]
    },
    {
      "cell_type": "code",
      "metadata": {
        "id": "r0BksHFSyAut",
        "colab_type": "code",
        "colab": {}
      },
      "source": [
        "!mv digit_dataSet.mat\\?raw\\=true digit_dataSet.mat"
      ],
      "execution_count": 15,
      "outputs": []
    },
    {
      "cell_type": "code",
      "metadata": {
        "id": "OjzmVgDusZed",
        "colab_type": "code",
        "colab": {}
      },
      "source": [
        "sample_data = loadmat('digit_dataSet.mat')"
      ],
      "execution_count": 16,
      "outputs": []
    },
    {
      "cell_type": "markdown",
      "metadata": {
        "id": "QjizXjDl1jkh",
        "colab_type": "text"
      },
      "source": [
        "This Data set has 28x28 greyscale images "
      ]
    },
    {
      "cell_type": "code",
      "metadata": {
        "id": "PV8GjeUrvAU1",
        "colab_type": "code",
        "colab": {}
      },
      "source": [
        "dataset_X = np.array(sample_data['X'])\n",
        "dataset_Y = np.array(sample_data['y'])\n"
      ],
      "execution_count": 18,
      "outputs": []
    },
    {
      "cell_type": "markdown",
      "metadata": {
        "id": "90E8Wwrp1Fzv",
        "colab_type": "text"
      },
      "source": [
        "# Explore the Data"
      ]
    },
    {
      "cell_type": "code",
      "metadata": {
        "id": "Aa3AUDtb0Itt",
        "colab_type": "code",
        "colab": {
          "base_uri": "https://localhost:8080/",
          "height": 34
        },
        "outputId": "ea0fee23-21ef-4c70-885f-6f732a048a1e"
      },
      "source": [
        "print(\"Number of training examples : {}\".format(dataset_X.shape[0]))"
      ],
      "execution_count": 20,
      "outputs": [
        {
          "output_type": "stream",
          "text": [
            "Number of training examples : 5000\n"
          ],
          "name": "stdout"
        }
      ]
    },
    {
      "cell_type": "markdown",
      "metadata": {
        "id": "DbwkVIRw0YoZ",
        "colab_type": "text"
      },
      "source": [
        "Here we can see that the dataset has 5000 training examples.\n",
        "\n",
        "We will split this data into two parts :\n",
        "\n",
        "\n",
        "1.   4000 examples for training.\n",
        "2.   1000 examples for testing.\n",
        "\n"
      ]
    },
    {
      "cell_type": "markdown",
      "metadata": {
        "id": "If-oEh5p2QvX",
        "colab_type": "text"
      },
      "source": [
        "# Preprocess the Data"
      ]
    },
    {
      "cell_type": "code",
      "metadata": {
        "id": "xulIocf62UU6",
        "colab_type": "code",
        "colab": {}
      },
      "source": [
        "data = np.concatenate((dataset_X, dataset_Y), axis = 1)"
      ],
      "execution_count": 21,
      "outputs": []
    },
    {
      "cell_type": "markdown",
      "metadata": {
        "id": "bOgwhc4y2rtQ",
        "colab_type": "text"
      },
      "source": [
        "Shuffling the data :-"
      ]
    },
    {
      "cell_type": "code",
      "metadata": {
        "id": "HqpExLbd2pNC",
        "colab_type": "code",
        "colab": {}
      },
      "source": [
        "data = data[np.random.randint(data.shape[0], size=5000), :]"
      ],
      "execution_count": 22,
      "outputs": []
    },
    {
      "cell_type": "markdown",
      "metadata": {
        "id": "eUlDVJoV3APx",
        "colab_type": "text"
      },
      "source": [
        "Preparing training set and corresponding labels."
      ]
    },
    {
      "cell_type": "code",
      "metadata": {
        "id": "qtk_moUJ24h5",
        "colab_type": "code",
        "colab": {}
      },
      "source": [
        "x_train = data[0:4000,0:400]\n",
        "y_train = data[0:4000,400:401]"
      ],
      "execution_count": 23,
      "outputs": []
    },
    {
      "cell_type": "code",
      "metadata": {
        "id": "v6IoNJo93SZR",
        "colab_type": "code",
        "colab": {
          "base_uri": "https://localhost:8080/",
          "height": 51
        },
        "outputId": "a6662f00-4ffd-423e-be60-9eefb14546a5"
      },
      "source": [
        "print(\"Shape of x_train : {}\".format(x_train.shape))\n",
        "print(\"Shape of y_train : {}\".format(y_train.shape))"
      ],
      "execution_count": 24,
      "outputs": [
        {
          "output_type": "stream",
          "text": [
            "Shape of x_train : (4000, 400)\n",
            "Shape of y_train : (4000, 1)\n"
          ],
          "name": "stdout"
        }
      ]
    },
    {
      "cell_type": "markdown",
      "metadata": {
        "id": "Ud9VoowH3yQk",
        "colab_type": "text"
      },
      "source": [
        "Preparing test set and corresponding labels."
      ]
    },
    {
      "cell_type": "code",
      "metadata": {
        "id": "_BTz_xt53i3R",
        "colab_type": "code",
        "colab": {}
      },
      "source": [
        "x_test = data[4000:5001,0:400]\n",
        "y_test = data[4000:5001,400:401]"
      ],
      "execution_count": 25,
      "outputs": []
    },
    {
      "cell_type": "code",
      "metadata": {
        "id": "dV2tN7za4F5H",
        "colab_type": "code",
        "colab": {
          "base_uri": "https://localhost:8080/",
          "height": 51
        },
        "outputId": "f4d76954-48d8-4267-9a52-f0b4b9778c0f"
      },
      "source": [
        "print(\"Shape of x_test : {}\".format(x_test.shape))\n",
        "print(\"Shape of y_test : {}\".format(y_test.shape))"
      ],
      "execution_count": 26,
      "outputs": [
        {
          "output_type": "stream",
          "text": [
            "Shape of x_test : (1000, 400)\n",
            "Shape of y_test : (1000, 1)\n"
          ],
          "name": "stdout"
        }
      ]
    },
    {
      "cell_type": "markdown",
      "metadata": {
        "id": "G2C83hX24UJ_",
        "colab_type": "text"
      },
      "source": [
        "# Explore the preprocessed data"
      ]
    },
    {
      "cell_type": "code",
      "metadata": {
        "id": "XIvlIobV4MjI",
        "colab_type": "code",
        "colab": {}
      },
      "source": [
        ""
      ],
      "execution_count": null,
      "outputs": []
    }
  ]
}