{
  "nbformat": 4,
  "nbformat_minor": 0,
  "metadata": {
    "colab": {
      "name": "Hand_Written_digit_recog_Using_tensorflow.ipynb",
      "provenance": [],
      "collapsed_sections": [],
      "toc_visible": true,
      "authorship_tag": "ABX9TyMdJMNhelZptMPC2OM2Z9Vq",
      "include_colab_link": true
    },
    "kernelspec": {
      "name": "python3",
      "display_name": "Python 3"
    }
  },
  "cells": [
    {
      "cell_type": "markdown",
      "metadata": {
        "id": "view-in-github",
        "colab_type": "text"
      },
      "source": [
        "<a href=\"https://colab.research.google.com/github/run-zen/Colab-Notebooks/blob/master/Hand_Written_digit_recog_Using_tensorflow.ipynb\" target=\"_parent\"><img src=\"https://colab.research.google.com/assets/colab-badge.svg\" alt=\"Open In Colab\"/></a>"
      ]
    },
    {
      "cell_type": "markdown",
      "metadata": {
        "id": "jhGY2MPpjuas",
        "colab_type": "text"
      },
      "source": [
        "# **Image Classification Using Convolutional Neural Networks**"
      ]
    },
    {
      "cell_type": "markdown",
      "metadata": {
        "id": "W2PjyAVul38f",
        "colab_type": "text"
      },
      "source": [
        "In this notebook I will build a convolutional neural network to classify hand written digits.\n",
        "\n",
        "We will use tensorflow to create this CNN and other helper libraries."
      ]
    },
    {
      "cell_type": "markdown",
      "metadata": {
        "id": "LoREgSg7jvG6",
        "colab_type": "text"
      },
      "source": [
        "## Importing Required libaries"
      ]
    },
    {
      "cell_type": "code",
      "metadata": {
        "id": "N7jK9P6tkGAI",
        "colab_type": "code",
        "colab": {
          "base_uri": "https://localhost:8080/",
          "height": 34
        },
        "outputId": "429aa415-da4f-4e5e-8c88-a3086d7d4b84"
      },
      "source": [
        "import tensorflow as tf\n",
        "print(\"Tensorflow version : {}\".format(tf.__version__))\n",
        "\n",
        "#Helper libraries\n",
        "import math\n",
        "import numpy as np\n",
        "import matplotlib.pyplot as plt"
      ],
      "execution_count": 2,
      "outputs": [
        {
          "output_type": "stream",
          "text": [
            "Tensorflow version : 2.3.0\n"
          ],
          "name": "stdout"
        }
      ]
    },
    {
      "cell_type": "code",
      "metadata": {
        "id": "2R3zCdiHlG-i",
        "colab_type": "code",
        "colab": {}
      },
      "source": [
        "import logging\n",
        "logger = tf.get_logger()\n",
        "logger.setLevel(logging.ERROR)"
      ],
      "execution_count": 3,
      "outputs": []
    },
    {
      "cell_type": "markdown",
      "metadata": {
        "id": "yRxY503hmqWy",
        "colab_type": "text"
      },
      "source": [
        "# Import Dataset"
      ]
    },
    {
      "cell_type": "markdown",
      "metadata": {
        "id": "v0mjRBGrm2hc",
        "colab_type": "text"
      },
      "source": [
        ""
      ]
    },
    {
      "cell_type": "code",
      "metadata": {
        "id": "cyUGfSaHmvkA",
        "colab_type": "code",
        "colab": {}
      },
      "source": [
        ""
      ],
      "execution_count": null,
      "outputs": []
    }
  ]
}